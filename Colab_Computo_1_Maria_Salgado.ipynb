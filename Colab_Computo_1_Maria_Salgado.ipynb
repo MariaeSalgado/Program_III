{
  "cells": [
    {
      "cell_type": "markdown",
      "metadata": {
        "id": "view-in-github",
        "colab_type": "text"
      },
      "source": [
        "<a href=\"https://colab.research.google.com/github/MariaeSalgado/Program_III/blob/main/Colab_Computo_1_Maria_Salgado.ipynb\" target=\"_parent\"><img src=\"https://colab.research.google.com/assets/colab-badge.svg\" alt=\"Open In Colab\"/></a>"
      ]
    },
    {
      "cell_type": "markdown",
      "metadata": {
        "id": "7GLalQPemgDV"
      },
      "source": [
        "# **COMPUTO 1 - MARIA ESTEFRANY SALGADO OSORIO**"
      ]
    },
    {
      "cell_type": "markdown",
      "metadata": {
        "id": "fnm9gU-nmni8"
      },
      "source": [
        "TIPOS DE DATOS"
      ]
    },
    {
      "cell_type": "code",
      "execution_count": null,
      "metadata": {
        "id": "5MdIqwCrmlr8"
      },
      "outputs": [],
      "source": [
        "num1 = 5 #variable de tipo entero.\n",
        "num2 = 4.9 #variable de tipo double, real, decimal.\n",
        "print(\"Los valores: Num 1: \", num1, \" Num 2: \", num2)\n",
        "\n",
        "#num1 = 4.9\n",
        "print(\"Valor: Num 1: \", num1)"
      ]
    },
    {
      "cell_type": "code",
      "execution_count": null,
      "metadata": {
        "id": "L2p-Gut6mptz"
      },
      "outputs": [],
      "source": [
        "varLogica = False\n",
        "\n",
        "print(\"Variable Booleana: \", varLogica)"
      ]
    },
    {
      "cell_type": "code",
      "execution_count": null,
      "metadata": {
        "id": "jL5J2eRtmr_z"
      },
      "outputs": [],
      "source": [
        "nombre = \"Luis Hernandez\"\n",
        "print(\"Mi Nombre: \", nombre, \"Iniciales: \", nombre[0], nombre[5], \"Longitud: \", len(nombre) )\n",
        "print(\"Primer Nombre: \", nombre[0:5])\n",
        "print(\"Primer Nombre: \", nombre[:5])\n",
        "print(\"Apellido: \", nombre[5:len(nombre)])\n",
        "print(\"Apellid: \", nombre[5:])\n",
        "print(\"Apellido: \", nombre[-9:])"
      ]
    },
    {
      "cell_type": "code",
      "execution_count": null,
      "metadata": {
        "id": "VAUSJzq7mt9L"
      },
      "outputs": [],
      "source": [
        "print(type(num1))\n",
        "print(type(num2))\n",
        "print(type(varLogica))\n",
        "print(type(nombre))"
      ]
    },
    {
      "cell_type": "code",
      "execution_count": null,
      "metadata": {
        "id": "X28HSqrTmwjb"
      },
      "outputs": [],
      "source": [
        "num1 = float(input(\"Num 1: \"))\n",
        "num2 = float(input(\"Num 2: \"))\n",
        "resp = num1 + num2\n",
        "print(\"La suma es: \", resp)"
      ]
    },
    {
      "cell_type": "code",
      "execution_count": null,
      "metadata": {
        "id": "VqBzjwGNmx2L"
      },
      "outputs": [],
      "source": [
        "def suma(num1, num2):\n",
        "  return num1 + num2"
      ]
    },
    {
      "cell_type": "code",
      "execution_count": null,
      "metadata": {
        "id": "vn4zoEEqmyWc"
      },
      "outputs": [],
      "source": [
        "num1 = float(input(\"Num 1: \"))\n",
        "num2 = float(input(\"N4.26um 2: \"))\n",
        "resp = suma(num1, num2)\n",
        "print(resp)"
      ]
    },
    {
      "cell_type": "markdown",
      "metadata": {
        "id": "8XpYv33rm2bz"
      },
      "source": [
        "FUNCIONES DE USUARIO\n",
        "\n",
        "\n",
        "\n",
        "*   Convertir grados celsius a farenheit.\n",
        "\n",
        "\n"
      ]
    },
    {
      "cell_type": "code",
      "execution_count": null,
      "metadata": {
        "id": "GuDNeIUom5-D"
      },
      "outputs": [],
      "source": [
        "def convertir_cf(c):\n",
        "  return 32 + c*9/5"
      ]
    },
    {
      "cell_type": "code",
      "execution_count": null,
      "metadata": {
        "id": "YF4yNgZdm-GT"
      },
      "outputs": [],
      "source": [
        "c = float(input(\"Celsius: \"))\n",
        "print(\"F: \", convertir_cf(c))"
      ]
    },
    {
      "cell_type": "markdown",
      "metadata": {
        "id": "TMZx6jEAnAS7"
      },
      "source": [
        "EJERCICIOS\n",
        "\n",
        "\n",
        "\n",
        "*   Convertir de Farenheit a Celsius\n",
        "*   Convertir de [Celsius, Farenheit] a Kelvin\n",
        "\n"
      ]
    },
    {
      "cell_type": "code",
      "execution_count": null,
      "metadata": {
        "id": "iebCeiE-nDKz"
      },
      "outputs": [],
      "source": [
        "def sueldo(numHrs, valorXhr):\n",
        "  sueldo = numHrs*valorXhr*30\n",
        "  if(numHrs>8):\n",
        "    sueldo += (numHrs-8)*valorXhr*2*30\n",
        "  #isss + afp = 3 + 6.25 = 9.25 = 100 - 9.25 = 90.75/100 = 0.9075\n",
        "  #sueldo = sueldo*0.9075\n",
        "  return sueldo"
      ]
    },
    {
      "cell_type": "code",
      "execution_count": null,
      "metadata": {
        "id": "0BtMVIYMnFea"
      },
      "outputs": [],
      "source": [
        "tabla_isr = [\n",
        "    [0.01, 472, 0, 0],\n",
        "    [472.01, 895.24, 0.1, 17.67],\n",
        "    [895.25, 2038.1, 0.2, 60.00],\n",
        "    [2038.11,9999999, 0.3, 288.57]\n",
        "]"
      ]
    },
    {
      "cell_type": "code",
      "execution_count": null,
      "metadata": {
        "id": "xDY26c71nGI8"
      },
      "outputs": [],
      "source": [
        "def calcularIsr(sueldo, sueldoNeto):\n",
        "  impSr = 0\n",
        "  for tramo in tabla_isr:\n",
        "    if sueldo>tramo[0] and sueldo<=tramo[1]:\n",
        "      impSr = (sueldoNeto-tramo[0])*tramo[2] + tramo[3]\n",
        "  return impSr"
      ]
    },
    {
      "cell_type": "code",
      "execution_count": null,
      "metadata": {
        "id": "BFh3uN0EnHZC"
      },
      "outputs": [],
      "source": [
        "valorXhr = 4\n",
        "#isss = 3%\n",
        "#afp = 6.25%\n",
        "numHrs = float(input(\"Horas trabajadas: \"))\n",
        "s = sueldo(numHrs, valorXhr)\n",
        "isr = calcularIsr(s, s*0.9075)\n",
        "print( \"Sueldo: \", s, \"ISR: \", isr, s*0.9075-isr )"
      ]
    },
    {
      "cell_type": "markdown",
      "metadata": {
        "id": "qsseBBqXnLDS"
      },
      "source": [
        "FUNCIONES LAMBDA\n",
        "\n",
        "\n",
        "\n",
        "*   FUNCIONES PRECONTRUIDAS MAP, FILTER, FIND, REDUCE, ETC.\n",
        "\n",
        "\n"
      ]
    },
    {
      "cell_type": "code",
      "execution_count": null,
      "metadata": {
        "id": "-4oBoFWXnJKK"
      },
      "outputs": [],
      "source": [
        "def elevarCuadrado(num):\n",
        "  return num**2"
      ]
    },
    {
      "cell_type": "code",
      "execution_count": null,
      "metadata": {
        "id": "WfwrHehmnPha"
      },
      "outputs": [],
      "source": [
        "data = [1,2,3,4,5]"
      ]
    },
    {
      "cell_type": "code",
      "execution_count": null,
      "metadata": {
        "id": "1NzBLKIZnQuK"
      },
      "outputs": [],
      "source": [
        "resp = map(elevarCuadrado, data)\n",
        "print(list(resp))"
      ]
    },
    {
      "cell_type": "code",
      "execution_count": null,
      "metadata": {
        "id": "UShQy0XDnSka"
      },
      "outputs": [],
      "source": [
        "resp = map(lambda n:n**2, data)\n",
        "print(list(resp))"
      ]
    },
    {
      "cell_type": "code",
      "execution_count": null,
      "metadata": {
        "id": "HC8phLdUnT5S"
      },
      "outputs": [],
      "source": [
        "resp = filter(lambda n:n>2, data)\n",
        "print( list(resp) )"
      ]
    },
    {
      "cell_type": "code",
      "execution_count": null,
      "metadata": {
        "id": "6x6ej8hOnVOi"
      },
      "outputs": [],
      "source": [
        "resp = functools.reduce(lambda a,n:a+n, data)\n",
        "print(resp)"
      ]
    },
    {
      "cell_type": "markdown",
      "metadata": {
        "id": "7ia2kWnnnXXy"
      },
      "source": [
        "TUPLAS"
      ]
    },
    {
      "cell_type": "code",
      "execution_count": null,
      "metadata": {
        "id": "OHD5SP9DnX1i"
      },
      "outputs": [],
      "source": [
        "semana = (\"domingo\", \"lunes\", \"martes\", \"miercoles\", \"jueves\", \"viernes\", \"sabado\")\n",
        "#semana[0] = \"otro\"\n",
        "print( semana.count(\"domingo\") ) #count cuenta el numero de veces que aparece un elemento en la tupla\n",
        "print( len(semana) )"
      ]
    },
    {
      "cell_type": "markdown",
      "metadata": {
        "id": "WegeviArncjK"
      },
      "source": [
        "LISTAS - ARRAY"
      ]
    },
    {
      "cell_type": "code",
      "execution_count": null,
      "metadata": {
        "id": "uSfhk9y7nbEi"
      },
      "outputs": [],
      "source": [
        "meses = [\"ene\", \"feb\", \"mar\", \"abr\", \"may\", \"jun\", \"jul\", \"ago\", \"sep\", \"oct\", \"nov\", \"dic\"]\n",
        "print( meses[-2:] ) #ultimos dos meses del año\n",
        "print( meses[:2] ) #primero dos meses del año\n",
        "\n",
        "meses[0] = \"enero\"\n",
        "\n",
        "print( meses )"
      ]
    },
    {
      "cell_type": "code",
      "execution_count": null,
      "metadata": {
        "id": "Z520HW4Xnejh"
      },
      "outputs": [],
      "source": [
        "materias = [ [\"Progra I\", [5,6,8], [8,7,9], [9,10,9] ], [\"Progra II\"] ]\n",
        "print( materias[1][0] )"
      ]
    },
    {
      "cell_type": "markdown",
      "metadata": {
        "id": "P31oFPsnnipD"
      },
      "source": [
        "DICCIONARIOS - JSON"
      ]
    },
    {
      "cell_type": "code",
      "execution_count": null,
      "metadata": {
        "id": "s0KBG_hvnhHS"
      },
      "outputs": [],
      "source": [
        "materias = {\n",
        "    \"Progra I\": {\n",
        "        \"c1\": {\n",
        "          \"lab1\" : 5,\n",
        "          \"lab2\" : 6,\n",
        "          \"parcial\" : 8\n",
        "      },\n",
        "      \"c2\": {\n",
        "          \"lab1\" : 8,\n",
        "          \"lab2\" : 7,\n",
        "          \"parcial\" : 9\n",
        "      },\n",
        "      \"c3\": {\n",
        "          \"lab1\" : 9,\n",
        "          \"lab2\" : 10,\n",
        "          \"parcial\" : 9\n",
        "      }\n",
        "    },\n",
        "    \"Progra II\" :{\n",
        "\n",
        "    }\n",
        "}\n",
        "print( materias[\"Progra I\"][\"c1\"][\"lab1\"] )"
      ]
    },
    {
      "cell_type": "markdown",
      "metadata": {
        "id": "fuOJSmrMnneZ"
      },
      "source": [
        "LISTAS"
      ]
    },
    {
      "cell_type": "code",
      "execution_count": null,
      "metadata": {
        "id": "Gwqv2J0FnmPp"
      },
      "outputs": [],
      "source": [
        "data = [2,5,6,8,9]"
      ]
    },
    {
      "cell_type": "code",
      "execution_count": null,
      "metadata": {
        "id": "BQ7nQ1Ngnv9p"
      },
      "outputs": [],
      "source": [
        "resp = map(lambda n:n**3, data)\n",
        "print(list(resp))"
      ]
    },
    {
      "cell_type": "code",
      "execution_count": null,
      "metadata": {
        "id": "rSzk6wjMnxHI"
      },
      "outputs": [],
      "source": [
        "f = map(lambda c:c*9/5 + 32, data)\n",
        "print( list(f) )"
      ]
    },
    {
      "cell_type": "code",
      "execution_count": null,
      "metadata": {
        "id": "Zcx65KpmnygR"
      },
      "outputs": [],
      "source": [
        "pares = filter(lambda n:n%2==0, data)\n",
        "print( list(pares) )"
      ]
    },
    {
      "cell_type": "code",
      "execution_count": null,
      "metadata": {
        "id": "0TIhmaXQnzsK"
      },
      "outputs": [],
      "source": [
        "impares = filter(lambda n:n%2!=0, data)\n",
        "print( list(impares) )"
      ]
    },
    {
      "cell_type": "markdown",
      "metadata": {
        "id": "UVpo4jKEn1Dh"
      },
      "source": [
        "CICLOS\n",
        "\n",
        "\n",
        "\n",
        "*   FOR\n",
        "\n",
        "\n"
      ]
    },
    {
      "cell_type": "code",
      "execution_count": null,
      "metadata": {
        "id": "wDbFDtqIn4Nx"
      },
      "outputs": [],
      "source": [
        "for item in data:\n",
        "  print(item)"
      ]
    },
    {
      "cell_type": "markdown",
      "metadata": {
        "id": "cNkBMNE_n4vS"
      },
      "source": [
        "\n",
        "\n",
        "*   WHILE\n",
        "\n",
        "\n"
      ]
    },
    {
      "cell_type": "code",
      "execution_count": null,
      "metadata": {
        "id": "6j3T55HNn7Jh"
      },
      "outputs": [],
      "source": [
        "i=0\n",
        "n = len(data)\n",
        "while i<n:\n",
        "  print( data[i] )\n",
        "  i+=1"
      ]
    },
    {
      "cell_type": "markdown",
      "metadata": {
        "id": "GVpPQkcxn9hB"
      },
      "source": [
        "TABLA DE MULTIPLICAR"
      ]
    },
    {
      "cell_type": "code",
      "execution_count": null,
      "metadata": {
        "id": "6vmRBRDYn-wB"
      },
      "outputs": [],
      "source": [
        "n = int(input(\"N Tabla: \"))\n",
        "\n",
        "for i in range(1,11):\n",
        "  print( n, \"x\", i, \"=\", n*i )"
      ]
    },
    {
      "cell_type": "code",
      "execution_count": null,
      "metadata": {
        "id": "t2QB7cB5oANR"
      },
      "outputs": [],
      "source": [
        "edad = int(input(\"Edad: \"))\n",
        "\n",
        "if edad<=2:\n",
        "  print(\"soy un bebe\")\n",
        "elif edad<=11:\n",
        "  print(\"Soy un niño\")\n",
        "elif edad<18:\n",
        "  print(\"Soy un adolescente\")\n",
        "elif edad<=65:\n",
        "  print(\"soy mayor de edad\")\n",
        "elif edad<=85:\n",
        "  print(\"Soy un adulto mayor\")\n",
        "else:\n",
        "  print(\"Larga vida\")"
      ]
    },
    {
      "cell_type": "code",
      "execution_count": null,
      "metadata": {
        "id": "pPxYSZsOoDMx"
      },
      "outputs": [],
      "source": [
        "lista = [5,8,9,15,7,9,2,3, 2, 1]"
      ]
    },
    {
      "cell_type": "code",
      "execution_count": null,
      "metadata": {
        "id": "9_scZi3HoEgC"
      },
      "outputs": [],
      "source": [
        "mayor = 0\n",
        "for num in lista:\n",
        "  if num>mayor:\n",
        "    mayor = num\n",
        "print(\"EL numero mayor de la lista: \", lista, \"es: \", mayor)"
      ]
    },
    {
      "cell_type": "code",
      "execution_count": null,
      "metadata": {
        "id": "4syL0v-2oF9o"
      },
      "outputs": [],
      "source": [
        "mayor = 0\n",
        "i=0\n",
        "n=len(lista)\n",
        "while i<n:\n",
        "  if lista[i]>mayor:\n",
        "    mayor = lista[i]\n",
        "  i+=1\n",
        "print(mayor)"
      ]
    },
    {
      "cell_type": "markdown",
      "metadata": {
        "id": "2DtYJ9TioKCR"
      },
      "source": [
        "Escribir un programa que pida la nota de un examen (0-10), e imprima por pantalla la calificacion en formato: \"Suspenso\" si la nota es menor a 5, \"Aprobado\" si es entre 5 inclusive, y 7 sin incluir, \"Notable\" si esta entre 7 inclusive y 9 sin incluir, \"Sobresaliente\" si esta entre 9 inclusive y 10 sin incluir, y \"Honorable\" si es 10"
      ]
    },
    {
      "cell_type": "code",
      "execution_count": null,
      "metadata": {
        "id": "k6rSuouloKog"
      },
      "outputs": [],
      "source": [
        "nota = float(input(\"Nota: \"))\n",
        "if(nota<0 or nota>10):\n",
        "  print(\"Nota invalida\")\n",
        "elif(nota<5):\n",
        "  print(\"SUPENSO\")\n",
        "elif(nota<7):\n",
        "  print(\"APROBADO\")\n",
        "elif(nota<9):\n",
        "  print(\"NOTABLE\")\n",
        "elif(nota<10):\n",
        "  print(\"SOBRESALIENTE\")\n",
        "else:\n",
        "  print(\"HONORABLE\")"
      ]
    },
    {
      "cell_type": "markdown",
      "metadata": {
        "id": "66xm1LbQoPTZ"
      },
      "source": [
        "Escriba un programa que muestre la secuencia fibonacci"
      ]
    },
    {
      "cell_type": "code",
      "execution_count": null,
      "metadata": {
        "id": "KXZ4BqXioMR4"
      },
      "outputs": [],
      "source": [
        "limit = int(input(\"Limit: \"))\n",
        "a=0\n",
        "b=1\n",
        "c=0\n",
        "while c<limit:\n",
        "  c=a+b\n",
        "  print(a,\"+\",b,\"=\", c)\n",
        "  b=a\n",
        "  a=c"
      ]
    },
    {
      "cell_type": "markdown",
      "metadata": {
        "id": "eP3eKC8poR76"
      },
      "source": [
        "\n",
        "\n",
        "*   Escriba un programa que encuentre la media aritmetica de una serie de numeros introducidos por el usuario\n",
        "\n",
        "*   Escriba un programa que determine si una palabra introducida por el usuario es palindrome o no, ejm. de palabras palindrome: Ana, oso, oro, etc.\n",
        "*   Escriba un programa que convierta un numero instroducido por el usuario a su equivalente en numeros romanos. Ejm: 5 -> V\n",
        "\n"
      ]
    },
    {
      "cell_type": "markdown",
      "metadata": {
        "id": "_RbZBNhDobNQ"
      },
      "source": [
        "PROGRAMACION ORIENTADA A OBJETOS.\n",
        "\n",
        "\n",
        "\n",
        "*   CLASE\n",
        "\n",
        "\n"
      ]
    },
    {
      "cell_type": "code",
      "execution_count": null,
      "metadata": {
        "id": "Fhy0BWsmodKI"
      },
      "outputs": [],
      "source": [
        "class Calculadora:\n",
        "  def sumar(sefl, num1, num2):\n",
        "    return num1 + num2"
      ]
    },
    {
      "cell_type": "markdown",
      "metadata": {
        "id": "2NH_Wie5oeyY"
      },
      "source": [
        "\n",
        "\n",
        "*   INSTANCIA DE UNA CLASE\n",
        "\n"
      ]
    },
    {
      "cell_type": "code",
      "execution_count": null,
      "metadata": {
        "id": "lKgC1fQoohVo"
      },
      "outputs": [],
      "source": [
        "objCalculadora = Calculadora()"
      ]
    },
    {
      "cell_type": "markdown",
      "metadata": {
        "id": "DBDMszQLoi7A"
      },
      "source": [
        "* OBJETO"
      ]
    },
    {
      "cell_type": "code",
      "execution_count": null,
      "metadata": {
        "id": "jOH5Qjy_okX4"
      },
      "outputs": [],
      "source": [
        "print( \"La suma de 5 + 3 = \", objCalculadora.sumar(5,3) )"
      ]
    },
    {
      "cell_type": "markdown",
      "metadata": {
        "id": "GSLHbLUQoxaA"
      },
      "source": [
        "EJERCICIOS DE PYTHON - COMPUTO 1"
      ]
    },
    {
      "cell_type": "markdown",
      "metadata": {
        "id": "5LMv_iBAo-YX"
      },
      "source": [
        "1. Calcular sobre el sueldo las deducciones por ley ISSS (3%), AFP( 6.25%), ISR(Según tabla) e imprima el total deducciones y sueldo neto. (20%)"
      ]
    },
    {
      "cell_type": "code",
      "execution_count": null,
      "metadata": {
        "id": "Tv55NqULo1Qg"
      },
      "outputs": [],
      "source": [
        "def calcular_deducciones(sueldo_bruto):\n",
        "    # Deducciones porcentuales\n",
        "    isss_porcentaje = 0.03\n",
        "    afp_porcentaje = 0.0625\n",
        "\n",
        "    # Calcular deducciones por ley\n",
        "    isss = sueldo_bruto * isss_porcentaje\n",
        "    afp = sueldo_bruto * afp_porcentaje\n",
        "\n",
        "    # Tabla de ISR ficticia (rango de ingresos, tasa de impuesto)\n",
        "    tabla_isr = [\n",
        "        (0, 0.0),\n",
        "        (500, 0.1),\n",
        "        (1000, 0.15),\n",
        "        (2000, 0.20),\n",
        "        (3000, 0.25)\n",
        "    ]\n",
        "\n",
        "    # Calcular ISR según la tabla\n",
        "    isr = 0\n",
        "    for i in range(1, len(tabla_isr)):\n",
        "        if sueldo_bruto > tabla_isr[i][0]:\n",
        "            isr += (tabla_isr[i][0] - tabla_isr[i - 1][0]) * tabla_isr[i][1]\n",
        "        else:\n",
        "            isr += (sueldo_bruto - tabla_isr[i - 1][0]) * tabla_isr[i][1]\n",
        "            break\n",
        "\n",
        "    # Calcular total de deducciones\n",
        "    total_deducciones = isss + afp + isr\n",
        "\n",
        "    # Calcular sueldo neto\n",
        "    sueldo_neto = sueldo_bruto - total_deducciones\n",
        "\n",
        "    return isss, afp, isr, total_deducciones, sueldo_neto\n",
        "\n",
        "# Obtener sueldo bruto del usuario\n",
        "sueldo_bruto = float(input(\"Ingrese el sueldo: \"))\n",
        "\n",
        "# Calcular deducciones y sueldo neto\n",
        "isss, afp, isr, total_deducciones, sueldo_neto = calcular_deducciones(sueldo_bruto)\n",
        "\n",
        "# Mostrar resultados\n",
        "print(f\"Deducciones por ley:\")\n",
        "print(f\"ISSS: ${isss:.2f}\")\n",
        "print(f\"AFP: ${afp:.2f}\")\n",
        "print(f\"ISR: ${isr:.2f}\")\n",
        "print(f\"Total Deducciones: ${total_deducciones:.2f}\")\n",
        "print(f\"Sueldo Neto: ${sueldo_neto:.2f}\")"
      ]
    },
    {
      "cell_type": "markdown",
      "metadata": {
        "id": "SHs7MVGOpdPJ"
      },
      "source": [
        "2. Calcular el valor a pagar según el número de metros consumidos de agua potable (Ver tabla en la siguiente diapositiva). (20%)"
      ]
    },
    {
      "cell_type": "code",
      "execution_count": null,
      "metadata": {
        "id": "L1rZ-LwgpeSG"
      },
      "outputs": [],
      "source": [
        "metros = float(input(\"Ingrese los metros consumidos de agua:\"))\n",
        "cuota = 6\n",
        "mt = (28-18)*0.45\n",
        "if 1 <= metros <= 18:\n",
        "   print(f\"Su cuota es de: ${cuota} de sus metros consumidos\")\n",
        "\n",
        "elif 19 <= metros <= 28:\n",
        "   resp = (metros-18)*0.45+cuota\n",
        "   print(f\"Su cuota es de: ${resp} de sus metros consumidos\")\n",
        "elif 29 <= metros:\n",
        "   resp = ((metros-28)*0.65+cuota)+ mt\n",
        "   print(f\"Su cuota es de: ${resp} de sus metros consumidos\")\n",
        "else:\n",
        "  print(\"Ingrese un metodo valido\")"
      ]
    },
    {
      "cell_type": "markdown",
      "metadata": {
        "id": "TM5G1osFpgXO"
      },
      "source": [
        "3. Desarrolle la tabla de meses acumulados a un meses. Si puede encontrar la formula matemática para evitar ciclos. (10%)"
      ]
    },
    {
      "cell_type": "code",
      "execution_count": null,
      "metadata": {
        "id": "ZYP-AeGypiWg"
      },
      "outputs": [],
      "source": [
        "def tabla_meses_acumulados(mes_max):\n",
        "    tabla = {}\n",
        "    for mes in range(1, mes_max + 1):\n",
        "        acumulado = (mes * (mes + 1)) // 2\n",
        "        tabla[mes] = acumulado\n",
        "    return tabla\n",
        "\n",
        "mes_maximo = int(input(\"Ingrese el mes máximo: \"))\n",
        "tabla_resultante = tabla_meses_acumulados(mes_maximo)\n",
        "\n",
        "print(\"Tabla de meses acumulados:\")\n",
        "print(\"Mes\\tAcumulado\")\n",
        "for mes, acumulado in tabla_resultante.items():\n",
        "    print(f\"{mes}\\t{acumulado}\")\n"
      ]
    },
    {
      "cell_type": "markdown",
      "metadata": {
        "id": "6DQMj2GQpkFu"
      },
      "source": [
        "4. Conversores: (40%) (10 ítems como mínimo por cada uno)"
      ]
    },
    {
      "cell_type": "code",
      "execution_count": null,
      "metadata": {
        "id": "tnBBKJURpnBT"
      },
      "outputs": [],
      "source": [
        "valores = [\n",
        "           [],\n",
        "           [0, 1, 0.85, 23.8, 35.11, 7.74, 8.75, 621.61,4.07,109.83,73.25], #monedas\n",
        "           [0, 1, 100, 0.001, 1000,0.000621371,1.09361,3.28084,39.3701,0.000539957,1e+6],#Longitud\n",
        "           [0,1,1000,0.001,1e+6,1e+9,0.000984207,0.00110231,0.157473,2.20462,35.274],#Masa\n",
        "           [0,0.25,0.000125,1.25e-7,1.25e-10,1.25e-13,1.25e-16,1.25e-19,1.25e-22,1.25e-25],#Almacenamiento\n",
        "           [0,1,60,60000,6e+7,6e+10,0.0166666667,0.000694444,9.92063e-5,2.28311e-5,1.9026e-6],#Tiempo\n",
        "           [0,1,0.001,0.219969,0.879877,1.75975,3.51951,35.1951,56.3121,0.0353147,61.0237],#Volumen\n",
        "           [0,1e-6,3.861e-7,1.19599,10.7639,1550,1e-4,0.000247105,1000000 ]#Area\n",
        "]\n",
        "etiquetas = [\n",
        "           [],\n",
        "           [\"1. Dolar\",\n",
        "            \"2. Euro\",\n",
        "            \"3. Lempira\",\n",
        "            \"4. Cordobas\",\n",
        "            \"5. Quetzalez\",\n",
        "            \"6. Colon SV\",\n",
        "            \"7. Colon CR\",\n",
        "            \"8. Sol Peruano\",\n",
        "            \"9. Yen Japones\",\n",
        "            \"10. Rublo Ruso\"],\n",
        "           [\"1. Metro\", \"2. Centimetro\", \"3. Kilometro\",\"4. Milimetro\", \"5. Milla\", \"6. Yarda\",\"7. Pie\",\"8. Pulgada\",\"9. Milla Nautica\",\"10. Micrometro\"],\n",
        "           [\"1. Kilogramo\",\"2. Gramo\",\"3. Tonelada\",\"4. Miligramo\",\"5. Microgramo\", \"6. Tonelada larga\",\"7. Tonelada corta\",\"8. Stone\", \"9. Libra\", \"10. Onza\"],\n",
        "           [\"1. Bit\",\"2. Byte\", \"3. Kilobyte\", \"4. Megabyte\", \"5. Gigabyte\", \"6. Terabyte\", \"7. Petabyte\", \"8. Exabyte\", \"9. Zettabyte\", \"10. Yottabyte\"],\n",
        "           [\"1. Minuto\", \"2. Segundo\",\"3. Milisegundo\",\"4.Microsegundo\",\"5. Nanosegundo\",\"6. Hora\",\"7. Dia\",\"8. Semana\",\"9. Mes\",\"10. año\"],\n",
        "           [\"1. Litro\",\"2. Metro Cubico\",\"3. Galon imperia\",\"4. Cuarto imperial\",\"5. Pinta imperial\",\"6. Taza imperial\",\"7. Onza liquida imperial\",\"8. Cucharada imperial\",\"9. Pie cubico\",\"10. Pulgada cubica\" ],\n",
        "           [\"1. Metro cuadrado\",\"2. Kilometro cuadrado\",\"3. Milla cuadrada\",\"5. Yarda cuadrada\",\"6. Pie cuadrado\",\"7. Pulgada cuadrada\",\"8. Hectarea\",\"9. Acre\",\"Milimetros cuadrados\"]\n",
        "]\n",
        "def convertir(conversor, de, a, cantidad):\n",
        "  return valores[conversor][a]/valores[conversor][de] * cantidad\n",
        "\n",
        "print(\"*** MENU ***\")\n",
        "print(\"* 1. Monedas\")\n",
        "print(\"* 2. Longitud\")\n",
        "print(\"* 3. Masa\")\n",
        "print(\"* 4. Almacenamiento\")\n",
        "print(\"* 5. Tiempo\")\n",
        "print(\"* 6. Volumen\")\n",
        "print(\"* 7. Area\")\n",
        "\n",
        "\n",
        "conversor = int(input(\"Que quieres utilizar: \"))\n",
        "\n",
        "if conversor < 8:\n",
        "\n",
        "  print( etiquetas[conversor] )\n",
        "\n",
        "\n",
        "\n",
        "  de = int(input(\"DE: \"))\n",
        "  a = int(input(\"A: \"))\n",
        "  cantidad = float(input(\"Cant: \"))\n",
        "\n",
        "  print(\"Respuesta: \", convertir(conversor, de, a, cantidad) )\n",
        "\n",
        "else:\n",
        "  print(\"Ingrese una opcion valida\")\n"
      ]
    },
    {
      "cell_type": "markdown",
      "metadata": {
        "id": "eHSaC1xHpsMc"
      },
      "source": [
        "5. Realizar un conversor propio, donde espesifique el valor de conversión: (10%) • 1 caja -> 25 unidad. Viceversa 80 unidades – 3/5 -> cajas/unidades • 1 saco -> 50 libras. Viceversa 130 libras – 2/30 -> sacos/libras • 1 fardo -> 5 unidades. Viceversa 28 unidades – 5/3 -> fardos/unidades"
      ]
    },
    {
      "cell_type": "code",
      "execution_count": null,
      "metadata": {
        "id": "3rzAUJwrpqR8"
      },
      "outputs": [],
      "source": [
        "def cajas_to_unidades(cajas):\n",
        "    return cajas * 25\n",
        "\n",
        "def unidades_to_cajas(unidades):\n",
        "    return unidades / 25\n",
        "\n",
        "def sacos_to_libras(sacos):\n",
        "    return sacos * 50\n",
        "\n",
        "def libras_to_sacos(libras):\n",
        "    return libras / 50\n",
        "\n",
        "def fardos_to_unidades(fardos):\n",
        "    return fardos * 5\n",
        "\n",
        "def unidades_to_fardos(unidades):\n",
        "    return unidades / 5\n",
        "\n",
        "\n",
        "print(\"------Menu---------\")\n",
        "print(\"1. Conversión de cajas a unidades y viceversa\")\n",
        "print(\"2. Conversión de sacos a libras y viceversa\")\n",
        "print(\"3. Conversión de fardos a unidades y viceversa\")\n",
        "\n",
        "covers = int(input(\"Que Quieres hacer: \"))\n",
        "\n",
        "if covers < 4:\n",
        "\n",
        "  if covers == 1 :\n",
        "\n",
        "    print(\"\")\n",
        "    print(\"Conversión de cajas a unidades y viceversa\")\n",
        "\n",
        "    # Conversión de cajas a unidades y viceversa\n",
        "\n",
        "\n",
        "    print(\"        1. Cajas a unidades\")\n",
        "    print(\"        2. Unidades a cajas\")\n",
        "    cajas = int(input(\"Que quieres hacer: \"))\n",
        "\n",
        "\n",
        "    if cajas == 1:\n",
        "      cajas = float(input(\"Introduce el número de cajas: \"))\n",
        "      unidades = cajas_to_unidades(cajas)\n",
        "      print(f\"{cajas} cajas equivalen a {unidades} unidades.\")\n",
        "    elif cajas == 2:\n",
        "      unidades_input = float(input(\"Introduce el número de unidades: \"))\n",
        "      cajas_output = unidades_to_cajas(unidades_input)\n",
        "      print(f\"{unidades_input} unidades equivalen a {cajas_output} cajas.\")\n",
        "    else:\n",
        "      print(\"Error\")\n",
        "\n",
        "\n",
        "\n",
        "\n",
        "  elif covers == 2:\n",
        "    print(\"\")\n",
        "    print(\"Conversión de sacos a libras y viceversa\")\n",
        "    print(\"        1. Sacos a libras\")\n",
        "    print(\"        2. Libras a sacos\")\n",
        "    sacos = int(input(\"Que quieres hacer: \"))\n",
        "\n",
        "\n",
        "    if sacos == 1:\n",
        "      # Conversión de sacos a libras y viceversa\n",
        "      sacos = float(input(\"Introduce el número de sacos: \"))\n",
        "      libras = sacos_to_libras(sacos)\n",
        "      print(f\"{sacos} sacos equivalen a {libras} libras.\")\n",
        "\n",
        "    elif sacos == 2:\n",
        "      libras_input = float(input(\"Introduce el número de libras: \"))\n",
        "      sacos_output = libras_to_sacos(libras_input)\n",
        "      print(f\"{libras_input} libras equivalen a {sacos_output} sacos.\")\n",
        "    else:\n",
        "      print(\"Error\")\n",
        "\n",
        "\n",
        "  elif covers == 3:\n",
        "   print(\"\")\n",
        "   print(\"Conversión de fardos a unidades y viceversa\")\n",
        "   print(\"        1. Fardos a unidades\")\n",
        "   print(\"        2. Unidades a fardos\")\n",
        "   fardos = int(input(\"Que quieres hacer: \"))\n",
        "\n",
        "   if fardos == 1:\n",
        "\n",
        "      # Conversión de fardos a unidades y viceversa\n",
        "      fardos = float(input(\"Introduce el número de fardos: \"))\n",
        "      unidades_fardos = fardos_to_unidades(fardos)\n",
        "      print(f\"{fardos} fardos equivalen a {unidades_fardos} unidades.\")\n",
        "\n",
        "   elif fardos == 2:\n",
        "\n",
        "      unidades_input_fardos = float(input(\"Introduce el número de unidades: \"))\n",
        "      fardos_output = unidades_to_fardos(unidades_input_fardos)\n",
        "      print(f\"{unidades_input_fardos} unidades equivalen a {fardos_output} fardos.\")\n",
        "\n",
        "   else:\n",
        "    print(\"Erro\")\n",
        "\n",
        "else:\n",
        "  print(\"Ingrese una option valida\")"
      ]
    },
    {
      "cell_type": "markdown",
      "metadata": {
        "id": "I2ej8d2BSclM"
      },
      "source": [
        "# **COMPUTO I - PARCIAL I - María Salgado**"
      ]
    },
    {
      "cell_type": "markdown",
      "metadata": {
        "id": "fVVBvFx0UZ77"
      },
      "source": [
        "**2. Desarrolle el conversor de Área (Superficie) haciendo uso de los\n",
        "diccionarios y las funciones de usuario en Python que contenga las\n",
        "siguientes opciones: (20%)**"
      ]
    },
    {
      "cell_type": "code",
      "execution_count": null,
      "metadata": {
        "colab": {
          "base_uri": "https://localhost:8080/"
        },
        "id": "vnHhCRpcjecf",
        "outputId": "bfb22f50-bfa2-48bf-9c02-40749a1b630f"
      },
      "outputs": [
        {
          "output_type": "stream",
          "name": "stdout",
          "text": [
            "Conversor de Área\n",
            "Opciones disponibles:\n",
            "1. Pie Cuadrado\n",
            "2. Vara Cuadrada\n",
            "3. Yarda Cuadrada\n",
            "4. Metro Cuadrado\n",
            "5. Tareas\n",
            "6. Manzana\n",
            "7. Hectárea\n",
            "Selecciona la unidad de origen (1, 2, 3, etc.): 7\n",
            "Selecciona la unidad de destino 1, 2, 3, etc.): 2\n",
            "Ingresa el valor a convertir: 24\n",
            "24.0 Hectárea es igual a 287009.03092472797 Vara Cuadrada\n"
          ]
        }
      ],
      "source": [
        "# Definimos un diccionario con las conversiones de unidades de área\n",
        "conversiones_area = {\n",
        "    \"a\": (\"Pie Cuadrado\", 1),\n",
        "    \"b\": (\"Vara Cuadrada\", 0.1111),\n",
        "    \"c\": (\"Yarda Cuadrada\", 0.111111),\n",
        "    \"d\": (\"Metro Cuadrado\", 0.092903),\n",
        "    \"e\": (\"Tareas\", 628.856),\n",
        "    \"f\": (\"Manzana\", 1000.0),\n",
        "    \"g\": (\"Hectárea\", 9.2903e-6)\n",
        "}\n",
        "\n",
        "# Función para realizar la conversión de área\n",
        "def convertir_area(valor, unidad_origen, unidad_destino):\n",
        "    factor_conversion = conversiones_area[unidad_destino][1] / conversiones_area[unidad_origen][1]\n",
        "    resultado = valor * factor_conversion\n",
        "    return resultado\n",
        "\n",
        "# Función principal del programa\n",
        "def main():\n",
        "    print(\"Conversor de Área\")\n",
        "    print(\"Opciones disponibles:\")\n",
        "    for opcion, (nombre, _) in conversiones_area.items():\n",
        "        print(f\"{opcion}. {nombre}\")\n",
        "\n",
        "    opcion_origen = input(\"Selecciona la unidad de origen (1, 2, 3, etc.): \")\n",
        "    opcion_destino = input(\"Selecciona la unidad de destino 1, 2, 3, etc.): \")\n",
        "    valor = float(input(\"Ingresa el valor a convertir: \"))\n",
        "\n",
        "    if opcion_origen in conversiones_area and opcion_destino in conversiones_area:\n",
        "        resultado = convertir_area(valor, opcion_origen, opcion_destino)\n",
        "        print(f\"{valor} {conversiones_area[opcion_origen][0]} es igual a {resultado} {conversiones_area[opcion_destino][0]}\")\n",
        "    else:\n",
        "        print(\"Opción no válida. Asegúrate de seleccionar una unidad válida.\")\n",
        "\n",
        "if __name__ == \"__main__\":\n",
        "    main()\n"
      ]
    }
  ],
  "metadata": {
    "colab": {
      "provenance": [],
      "include_colab_link": true
    },
    "kernelspec": {
      "display_name": "Python 3",
      "name": "python3"
    },
    "language_info": {
      "name": "python"
    }
  },
  "nbformat": 4,
  "nbformat_minor": 0
}